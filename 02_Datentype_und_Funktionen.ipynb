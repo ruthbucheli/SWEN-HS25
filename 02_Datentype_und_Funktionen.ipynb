{
 "cells": [
  {
   "cell_type": "markdown",
   "id": "90095b96",
   "metadata": {},
   "source": [
    "# Recap\n",
    "\n",
    "Im letzten Abschnitt haben wir uns mit grundlegenden Konzepten der Programmierung in Python beschäftigt, die für das Verständnis von Softwareentwicklung entscheidend sind.\n",
    "\n",
    "* **Ausgaben** mit `print`statements:\n",
    "    wichtiges Werkzeug, um Rückmeldungen über den Status eines Programms zu erhalten und das Verhalten von Variablen zu überprüfen. Wir haben verschiedene Möglichkeiten der Formatierung und der Ausgabe von Variablen erörtert, um die Lesbarkeit zu verbessern.\n",
    "    \n",
    "* **Kontrollstrukturen**:\n",
    "    * bedingte Anweisungen mit `if`:\n",
    "        Diese Struktur ermöglicht es, Entscheidungen zu treffen, indem der Code abhängig von bestimmten Bedingungen ausgeführt wird.\n",
    "\n",
    "    * Schleifen mit `for`und `while`:\n",
    "        Schleifen ermöglichen es uns, wiederholt Code auszuführen. Mit `for`-Schleifen können wir über Listen oder Bereiche iterieren, während `while`-Schleifen solange laufen, wie eine bestimmte Bedingung wahr ist.\n",
    "\n",
    "Diese Themen bilden das Fundament für komplexere Programmierkonzepte, die wir in den kommenden Sitzungen vertiefen werden.\n"
   ]
  },
  {
   "cell_type": "markdown",
   "id": "1976e21f",
   "metadata": {},
   "source": [
    "## Kontrolstrukturen\n",
    "\n",
    "`if`überprüft, ob `bedingung1` wahr ist. Wenn ja, wird der entsprechende Codeblock ausgeführt. `elif` Steht für \"else if\" und ermöglicht es, weitere Bedingungen zu überprüfen, wenn die vorhergehende `if`-Bedingung falsch ist. `else` Wird ausgeführt, wenn alle vorherigen Bedingungen falsch sind.\n"
   ]
  },
  {
   "cell_type": "code",
   "execution_count": 3,
   "id": "4518516e",
   "metadata": {},
   "outputs": [
    {
     "name": "stdout",
     "output_type": "stream",
     "text": [
      "x ist gleich 10\n"
     ]
    }
   ],
   "source": [
    "x = 10\n",
    "\n",
    "# if bedingung1\n",
    "if x > 10:\n",
    "    # Codeblock, der ausgeführt wird, wenn bedingung1 wahr ist\n",
    "    print(\"x ist größer als 10\")\n",
    "elif x == 10:\n",
    "    # Codeblock, der ausgeführt wird, wenn bedingung2 wahr ist\n",
    "    print(\"x ist gleich 10\")\n",
    "else:\n",
    "    # Codeblock, der ausgeführt wird, wenn keine der Bedingungen wahr ist\n",
    "    print(\"x ist kleiner als 10\")"
   ]
  },
  {
   "cell_type": "code",
   "execution_count": 4,
   "id": "9bfc25fe",
   "metadata": {},
   "outputs": [
    {
     "name": "stdout",
     "output_type": "stream",
     "text": [
      "Äpfel\n",
      "Bananen\n",
      "Kirschen\n"
     ]
    }
   ],
   "source": [
    "fruechte = [\"Äpfel\", \"Bananen\", \"Kirschen\"]\n",
    "\n",
    "# for element in sequenz:\n",
    "for frucht in fruechte:\n",
    "    # Codeblock, der für jedes Element in der Sequenz ausgeführt wird\n",
    "    print(frucht)"
   ]
  },
  {
   "cell_type": "code",
   "execution_count": 5,
   "id": "e9e858e1",
   "metadata": {},
   "outputs": [
    {
     "name": "stdout",
     "output_type": "stream",
     "text": [
      "Der Zähler ist: 0\n",
      "Der Zähler ist: 1\n",
      "Der Zähler ist: 2\n",
      "Der Zähler ist: 3\n",
      "Der Zähler ist: 4\n"
     ]
    }
   ],
   "source": [
    "zaehler = 0\n",
    "\n",
    "# while bedingung:\n",
    "while zaehler < 5:\n",
    "    # Codeblock, der ausgeführt wird, solange die Bedingung wahr ist\n",
    "    print(\"Der Zähler ist:\", zaehler)\n",
    "    zaehler += 1  # Erhöhe den Zähler um 1\n",
    "    "
   ]
  },
  {
   "cell_type": "markdown",
   "id": "799e5578",
   "metadata": {},
   "source": [
    "## Datentypen\n",
    "\n",
    "Datentypen definieren die Art der Daten, die in einer Variablen gespeichert werden. Sie bestimmen, welche Operationen auf den Daten durchgeführt werden können.\n",
    "\n",
    "Häufige Datentypen in Python:\n",
    "\n",
    "* Integer (`int`): Ganze Zahlen\n",
    "* Float (`float`): Dezimalzahlen\n",
    "* String (`str`): Zeichenfolgen\n",
    "* Boolean (`bool`): Wahrheitswerte\n",
    "\n",
    "Mit der Funktion `type()` und der Methode `isinstance()` kannst du die Datentypen von Variablen in Python einfach überprüfen. Diese Werkzeuge sind hilfreich, um sicherzustellen, dass Deine Variablen den erwarteten Typ haben, insbesondere in größeren Programmen oder Funktionen."
   ]
  },
  {
   "cell_type": "code",
   "execution_count": 9,
   "id": "e821fb06",
   "metadata": {},
   "outputs": [
    {
     "data": {
      "text/plain": [
       "bool"
      ]
     },
     "execution_count": 9,
     "metadata": {},
     "output_type": "execute_result"
    }
   ],
   "source": [
    "type(True)"
   ]
  },
  {
   "cell_type": "markdown",
   "id": "727df613",
   "metadata": {},
   "source": [
    "## Grundlagen von Listen\n",
    "\n",
    "Listen sind veränderbare (mutable) Datentypen, die eine Sammlung von Elementen speichern können. Sie sind in eckigen Klammern `[]` notiert.\n",
    "\n",
    "Wichtige Methoden:\n",
    "\n",
    "* `append()`: Fügt ein Element hinzu.\n",
    "* `remove()`: Entfernt ein Element mit dem angegebenen Wert.\n",
    "* `sort()`: Sortiert die Liste.\n"
   ]
  },
  {
   "cell_type": "code",
   "execution_count": 5,
   "id": "08e9831e",
   "metadata": {},
   "outputs": [
    {
     "name": "stdout",
     "output_type": "stream",
     "text": [
      "meine_liste ist eine Liste\n"
     ]
    }
   ],
   "source": [
    "meine_liste = [1, 2, 3]\n",
    "if isinstance(meine_liste, list):\n",
    "    print(\"meine_liste ist eine Liste\")"
   ]
  },
  {
   "cell_type": "code",
   "execution_count": 6,
   "id": "7b23c127",
   "metadata": {},
   "outputs": [
    {
     "data": {
      "text/plain": [
       "[1, 2, 3, 23, 12, 22]"
      ]
     },
     "execution_count": 6,
     "metadata": {},
     "output_type": "execute_result"
    }
   ],
   "source": [
    "meine_liste.append(23)\n",
    "meine_liste.append(12)\n",
    "meine_liste.append(22)\n",
    "meine_liste"
   ]
  },
  {
   "cell_type": "code",
   "execution_count": 7,
   "id": "aee9ea1c",
   "metadata": {},
   "outputs": [
    {
     "data": {
      "text/plain": [
       "[1, 2, 23, 12, 22]"
      ]
     },
     "execution_count": 7,
     "metadata": {},
     "output_type": "execute_result"
    }
   ],
   "source": [
    "# Entferne den ersten Wert '3' in der Liste\n",
    "meine_liste.remove(3)\n",
    "meine_liste"
   ]
  },
  {
   "cell_type": "code",
   "execution_count": 8,
   "id": "6f228878",
   "metadata": {},
   "outputs": [
    {
     "data": {
      "text/plain": [
       "[1, 2, 12, 22, 23]"
      ]
     },
     "execution_count": 8,
     "metadata": {},
     "output_type": "execute_result"
    }
   ],
   "source": [
    "# Sortiere die Liste 'in-place'. Die Liste selbst wird verändert und quasi durch die sortierte Version der Liste ersetzt.\n",
    "meine_liste.sort()\n",
    "meine_liste"
   ]
  },
  {
   "cell_type": "markdown",
   "id": "d380c25c",
   "metadata": {},
   "source": [
    "# 2) Funktionen\n",
    "\n",
    "## Einführung in Funktionen"
   ]
  },
  {
   "cell_type": "markdown",
   "id": "6404d66f",
   "metadata": {},
   "source": [
    "Neben den bestehenden Funktionen wie `print` oder `len` die wir bereits verwendet haben, kann man in Python auch eigene Funktionen definieren. Dies geschieht mit dem Schlüsselwort `def`, welches gefolgt wird von einem Funktionsnamen, der Parameterliste in `()`-Klammern und schliesslich einem `:`. Nun folgt ein Block, welcher die Funktion implementiert."
   ]
  },
  {
   "cell_type": "markdown",
   "id": "0e87f87d",
   "metadata": {},
   "source": [
    "## Einfache Funktionsdefinitionen\n",
    "\n",
    "Eine einfache Funktion ohne Parameter und ohne Rückgabewerte könnte zum Beispiel so aussehen."
   ]
  },
  {
   "cell_type": "code",
   "execution_count": 9,
   "id": "4c207695",
   "metadata": {},
   "outputs": [],
   "source": [
    "def begrüsse_die_welt():\n",
    "    print(\"Hello World!\")"
   ]
  },
  {
   "cell_type": "markdown",
   "id": "eee93556",
   "metadata": {},
   "source": [
    "Diese Funktion kann nun ähnlich wie `print` oder `len` mit den runden Klammern aufgerufen werden."
   ]
  },
  {
   "cell_type": "code",
   "execution_count": 10,
   "id": "06b9eaf7",
   "metadata": {},
   "outputs": [
    {
     "name": "stdout",
     "output_type": "stream",
     "text": [
      "Hello World!\n"
     ]
    }
   ],
   "source": [
    "begrüsse_die_welt()"
   ]
  },
  {
   "cell_type": "markdown",
   "id": "9190d7fa",
   "metadata": {},
   "source": [
    "<div class=\"alert alert-block alert-warning\">\n",
    "Die Runden Klammern <code>()</code> sind für den Aufruf einer Funktion wichtig, auch wenn keine Parameter übergeben werden. Werden die Klammern vergessen, ist erstmal kein offensichtliches Problem zu erkennen. Ohne Klammern wird die Funktion nur \"abgerufen\" oder \"geholt\" aber nicht aufgerufen:\n",
    "</div>"
   ]
  },
  {
   "cell_type": "code",
   "execution_count": 11,
   "id": "66ecbcf3",
   "metadata": {},
   "outputs": [
    {
     "data": {
      "text/plain": [
       "<function __main__.begrüsse_die_welt()>"
      ]
     },
     "execution_count": 11,
     "metadata": {},
     "output_type": "execute_result"
    }
   ],
   "source": [
    "begrüsse_die_welt"
   ]
  },
  {
   "cell_type": "markdown",
   "id": "36eab983",
   "metadata": {},
   "source": [
    "## Funktionen mit Parametern\n",
    "\n",
    "Funktionen ohne Parameter und Rückgabewerte sind aber selten wirklich spannend und sinnvoll. Deshalb soll als nächstes eine Funktion definiert werden, die eine übergebene Person begrüssen kann."
   ]
  },
  {
   "cell_type": "code",
   "execution_count": 12,
   "id": "76bba5fc",
   "metadata": {},
   "outputs": [],
   "source": [
    "def begrüsse_jemanden(name):\n",
    "    print(f\"Hello {name}\")"
   ]
  },
  {
   "cell_type": "markdown",
   "id": "db1231f7",
   "metadata": {},
   "source": [
    "Ähnlich wie schon bei `print` gesehen, kann ein entsprechender Name nun einfach übergeben werden."
   ]
  },
  {
   "cell_type": "code",
   "execution_count": 13,
   "id": "4f44917e",
   "metadata": {},
   "outputs": [
    {
     "name": "stdout",
     "output_type": "stream",
     "text": [
      "Hello Hans Muster\n"
     ]
    }
   ],
   "source": [
    "begrüsse_jemanden(\"Hans Muster\")"
   ]
  },
  {
   "cell_type": "markdown",
   "id": "05694e83",
   "metadata": {},
   "source": [
    "Bei der Definition von Funktionen können auch mehrere Parameter entgegen genommen werden. Jeder Parameter muss wieder einen eigenen Namen in der Definition haben und ist durch ein Komma von den vorhergehenden getrennt."
   ]
  },
  {
   "cell_type": "markdown",
   "id": "6bab6e05",
   "metadata": {},
   "source": [
    "Für das folgende Beispiel sei vorab noch eine spezielle Form des `*`-Operators erklärt. Es ist möglich mit `*` eine Zeichenkette wiederholt aneinander zu hängen. Man kann also eine Ganzzahl (`int`) mit einer Zeichenkette (`str`) multiplizieren und erhält folgenden Effekt."
   ]
  },
  {
   "cell_type": "code",
   "execution_count": 14,
   "id": "3f1fd0a3",
   "metadata": {},
   "outputs": [
    {
     "data": {
      "text/plain": [
       "'Spam!Spam!Spam!'"
      ]
     },
     "execution_count": 14,
     "metadata": {},
     "output_type": "execute_result"
    }
   ],
   "source": [
    "3*\"Spam!\""
   ]
  },
  {
   "cell_type": "markdown",
   "id": "b23f2ad6",
   "metadata": {},
   "source": [
    "Es entsteht also eine neue Zeichenkette, welche die ursprüngliche Zeichenkette 3 mal enthält. Diesen Effekt nutzen wir nun für eine Funktion mit mehreren Parametern. Wir schreiben eine Funktion, bei welcher auch angegeben werden kann, wieviele Ausrufezeichen an die Begrüssung dran gehängt werden sollen."
   ]
  },
  {
   "cell_type": "code",
   "execution_count": 15,
   "id": "0b84cb1d",
   "metadata": {},
   "outputs": [],
   "source": [
    "def begrüsse_jemanden_freundlich(name, wie_fest):\n",
    "    print(f\"Hello {name}{wie_fest*'!'}\")"
   ]
  },
  {
   "cell_type": "markdown",
   "id": "7adbd26c",
   "metadata": {},
   "source": [
    "Und ganz analog wird auch diese Funktion wieder aufgerufen."
   ]
  },
  {
   "cell_type": "code",
   "execution_count": 16,
   "id": "1d594384",
   "metadata": {},
   "outputs": [
    {
     "name": "stdout",
     "output_type": "stream",
     "text": [
      "Hello Hans Muster!!!!\n"
     ]
    }
   ],
   "source": [
    "begrüsse_jemanden_freundlich(\"Hans Muster\", 4)"
   ]
  },
  {
   "cell_type": "markdown",
   "id": "f410bbd4",
   "metadata": {},
   "source": [
    "## Funktionen mit Standardwerten\n",
    "\n",
    "In der Funktion `begrüsse_jemanden_freundlich` mussten wir nun jedes Mal angeben, `wie_fest` wir begrüssen möchten. Vielleicht ist dieser Wert in unserer Anwendung aber in den meisten Fällen identisch und meist eine `1`. Trotzdem müssten wir diese `1` jedes Mal wieder angeben. Um dies zu vermeiden, können wir aus dem Parameter einen Parameter mit Standardwert machen."
   ]
  },
  {
   "cell_type": "code",
   "execution_count": 10,
   "id": "11978536",
   "metadata": {},
   "outputs": [],
   "source": [
    "def begrüsse_jemanden_freundlich(name, wie_fest=1):\n",
    "    print(f\"Hello {name}{wie_fest*'!'}\")"
   ]
  },
  {
   "cell_type": "markdown",
   "id": "f164ac05",
   "metadata": {},
   "source": [
    "Der einzige Unterschied zur obigen Definition besteht im nachgehängten `=1` in der Parameter-Definition. Nun können wir diese Funktion ohne Angabe des zweiten Parameters ausführen und sehen das Verhalten, wie wenn wir eine `1` übergeben hätten."
   ]
  },
  {
   "cell_type": "code",
   "execution_count": 18,
   "id": "6dcde7be",
   "metadata": {},
   "outputs": [
    {
     "name": "stdout",
     "output_type": "stream",
     "text": [
      "Hello Hans!\n",
      "Hello Hans!\n"
     ]
    }
   ],
   "source": [
    "begrüsse_jemanden_freundlich(\"Hans\")\n",
    "begrüsse_jemanden_freundlich(\"Hans\", 1)"
   ]
  },
  {
   "cell_type": "markdown",
   "id": "75e2def2",
   "metadata": {},
   "source": [
    "<div class=\"alert alert-block alert-warning\">\n",
    "    <b>Wichtig:</b> Alle Parameter mit Standardwerten müssen am Ende der Parameterliste stehen. Sobald in der Parameterliste der erste Parameter mit Standardwerten auftaucht, dürfen keine weiteren Parameter ohne Standardwerte mehr folgen.\n",
    "</div>"
   ]
  },
  {
   "cell_type": "markdown",
   "id": "3ba26358",
   "metadata": {},
   "source": [
    "## Funktionen mit Rückgabewerten\n",
    "\n",
    "Bei `len` und `input` haben wir gesehen, dass Funktionen auch Werte zurückliefern können. Solche Funktionen können wir auch selbst schreiben. Dafür müssen wir einfach sicherstellen, dass innerhalb der Definition einer Funktion eine Zeile mit dem Schlüsselwort `return ....` steht, wobei die Punkte durch den zurück zu gebenden Wert zu ersetzen sind."
   ]
  },
  {
   "cell_type": "markdown",
   "id": "efcce715",
   "metadata": {},
   "source": [
    "Als Beispiel soll im folgenden eine Funktion geschrieben werden, welche die sogenannte Vektor-Norm, also die Länge eines Vektors berechnet. Den Vektor übergeben wir der Funktion als zwei Werte in den Parametern `x` und `y`. Dann soll die Norm des Vektors $\\vec{v} = [x, y]$ gemäss der bekannten Formel $\\lVert \\vec{v} \\rVert = \\sqrt{x^2 + y^2}$ berechnet und zurück gegeben werden."
   ]
  },
  {
   "cell_type": "code",
   "execution_count": 19,
   "id": "593a3455",
   "metadata": {},
   "outputs": [],
   "source": [
    "import math\n",
    "\n",
    "def norm(x, y):\n",
    "    return math.sqrt(x*x + y*y)"
   ]
  },
  {
   "cell_type": "markdown",
   "id": "53e4fe6f",
   "metadata": {},
   "source": [
    "Auch der Aufruf dieser Funktion funktioniert wieder analog zu den vorherigen Funktionen, nun müssen wir einfach sicherstellen, dass wir den Rückgabewert in einer Variablen speichern."
   ]
  },
  {
   "cell_type": "code",
   "execution_count": 20,
   "id": "f28cd56d",
   "metadata": {},
   "outputs": [
    {
     "name": "stdout",
     "output_type": "stream",
     "text": [
      "Länge= 3.605551275463989\n"
     ]
    }
   ],
   "source": [
    "länge=norm(2, 3)\n",
    "print(\"Länge=\", länge)"
   ]
  },
  {
   "cell_type": "markdown",
   "id": "0e1f5e55",
   "metadata": {},
   "source": [
    "Alternativ kann der Rückgabewert aber auch direkt als Parameter eines weiteren Funktionsaufrufs genutzt werden. Zum Beispiel könnten wir uns in diesem Fall den Umweg über die Variable `länge` auch sparen."
   ]
  },
  {
   "cell_type": "code",
   "execution_count": 21,
   "id": "0dd311d2",
   "metadata": {},
   "outputs": [
    {
     "name": "stdout",
     "output_type": "stream",
     "text": [
      "Länge=3.605551275463989\n"
     ]
    }
   ],
   "source": [
    "print(f\"Länge={norm(2, 3)}\")"
   ]
  },
  {
   "cell_type": "markdown",
   "id": "a6d467ec",
   "metadata": {},
   "source": [
    "Das Speichern in einer Zwischenvariablen hat aber den Vorteil, dass wir den Wert später auch für andere Funktionsaufrufe nochmal verwenden könnten."
   ]
  },
  {
   "cell_type": "markdown",
   "id": "9ec70dae",
   "metadata": {},
   "source": [
    "<div class=\"alert alert-block alert-info\">\n",
    "    <p><b>Hinweis:</b> In Python geben grundsätzlich alle Funktionen einen Wert zurück. Wird in einer Funktionsdefinition keine Zeile mit einem <code>return</code> angegeben, behandelt Python diese Funktion als würde am Ende ein <code>return None</code> stehen.</p>\n",
    "    <p>Aus diesem Grund kann auch der Rückgabewert einer Funktion gespeichert werden, welche grundsätzlich keinen Rückgabewert hat. Z.b. funktioniert auch <code>result = print(\"hello\")</code> obwohl <code>print()</code> keinen sinnvollen Rückgabewert gibt. Die Variable <code>result</code> enthält dann den Wert <code>None</code>.</p>\n",
    "</div>"
   ]
  },
  {
   "cell_type": "markdown",
   "id": "51e45c77",
   "metadata": {},
   "source": [
    "<div class=\"alert alert-block alert-warning\">\n",
    "    <p><b>Wichtig:</b> Bei der Verwendung von <code>print()</code>-Aufrufen, kann das Konzept des Rückgabewerts verwirrend sein. Ein Wert, der über <code>print(meiner_variable)</code> ausgegeben wird erscheint ja in der Ausgabe und man könnte denken, dass es sich hier um einen Rückgabewert handelt. Diese Ausgabe ist aber für den restlichen Programmcode nicht zugreifbar. Dies soll im folgenden Programmcode deutlich gemacht werden.</p>\n",
    "</div>"
   ]
  },
  {
   "cell_type": "code",
   "execution_count": 22,
   "id": "2697a641",
   "metadata": {},
   "outputs": [
    {
     "name": "stdout",
     "output_type": "stream",
     "text": [
      "Erste Variable = 10\n",
      "Resultat = 20\n"
     ]
    }
   ],
   "source": [
    "def meine_funktion():\n",
    "    erste_variable = 10\n",
    "    zweite_variable = 20\n",
    "    print(f\"Erste Variable = {erste_variable}\")\n",
    "    return zweite_variable\n",
    "\n",
    "resultat = meine_funktion()\n",
    "print(f\"Resultat = {resultat}\")"
   ]
  },
  {
   "cell_type": "markdown",
   "id": "83d9f64f",
   "metadata": {},
   "source": [
    "In diesem kleinen Beispiel erkennt man mehrere Aspekte\n",
    "\n",
    "1. Das `print` auf Zeile 4 in `meine_funktion()` gibt tatsächlich etwas aus.\n",
    "1. Auf Zeile 5 wird nur der Wert aus der Variable `zweite_variable` zurück gegeben.\n",
    "1. Entsprechend nimmt die Variable `resultat` auf Zeile 7 auch nur diesen Wert entgegen.\n",
    "1. Die Variable `resultat` hatte keine Möglichkeit an den Wert von `erste_variable` zu kommen, da das `print()` nur eine Ausgabe aber keine Rückgabe erzeugt."
   ]
  },
  {
   "cell_type": "markdown",
   "id": "8ae4265b",
   "metadata": {},
   "source": [
    "## Funktionen mit mehreren Rückgabewerten"
   ]
  },
  {
   "cell_type": "markdown",
   "id": "bc11d229",
   "metadata": {},
   "source": [
    "Wenn in einer Funktion mehrere Werte berechnet oder erzeugt werden, die zurück gegeben werden sollen, ist es möglich, diese als sogenanntes Tuple zurück zu liefern."
   ]
  },
  {
   "cell_type": "code",
   "execution_count": 11,
   "id": "bd516323",
   "metadata": {},
   "outputs": [],
   "source": [
    "def personen_daten_abfragen():\n",
    "    name = input(\"Wie lautet dein Name: \")\n",
    "    alter = input(\"Wie alt bist du: \")\n",
    "    wohnort = input(\"Wo wohnst du: \")\n",
    "    return name, alter, wohnort"
   ]
  },
  {
   "cell_type": "markdown",
   "id": "0a314d8f",
   "metadata": {},
   "source": [
    "Das Resultat einer solchen Funktion kann nun auf zwei Arten übernommen werden.\n",
    "\n",
    "Einerseits kann die Rückgabe einer einzelnen Variablen zugewiesen werden:"
   ]
  },
  {
   "cell_type": "code",
   "execution_count": null,
   "id": "346e0ed9",
   "metadata": {},
   "outputs": [],
   "source": [
    "resultat = personen_daten_abfragen()"
   ]
  },
  {
   "cell_type": "markdown",
   "id": "5bcfee7f",
   "metadata": {},
   "source": [
    "In diesem Fall enthält die Variable `resultat` ein Tuple mit allen zurückgelieferten Werten. Dabei können die individuellen Elemente ähnlich wie bei einer Liste heraus geholt werden."
   ]
  },
  {
   "cell_type": "code",
   "execution_count": null,
   "id": "c87a33dc",
   "metadata": {},
   "outputs": [
    {
     "ename": "NameError",
     "evalue": "name 'resultat' is not defined",
     "output_type": "error",
     "traceback": [
      "\u001b[31m---------------------------------------------------------------------------\u001b[39m",
      "\u001b[31mNameError\u001b[39m                                 Traceback (most recent call last)",
      "\u001b[36mCell\u001b[39m\u001b[36m \u001b[39m\u001b[32mIn[13]\u001b[39m\u001b[32m, line 1\u001b[39m\n\u001b[32m----> \u001b[39m\u001b[32m1\u001b[39m \u001b[38;5;28mprint\u001b[39m(\u001b[33m\"\u001b[39m\u001b[33mDer Name lautete: \u001b[39m\u001b[33m\"\u001b[39m, \u001b[43mresultat\u001b[49m[\u001b[32m0\u001b[39m])\n\u001b[32m      2\u001b[39m \u001b[38;5;28mprint\u001b[39m(\u001b[33m\"\u001b[39m\u001b[33mDas Alter war: \u001b[39m\u001b[33m\"\u001b[39m, resultat[\u001b[32m1\u001b[39m])\n",
      "\u001b[31mNameError\u001b[39m: name 'resultat' is not defined"
     ]
    }
   ],
   "source": [
    "print(\"Der Name lautete: \", resultat[0])\n",
    "print(\"Das Alter war: \", resultat[1])"
   ]
  },
  {
   "cell_type": "markdown",
   "id": "d0700514",
   "metadata": {},
   "source": [
    "Wenn man den Inhalt der Variable `resultat` anschaut, erkennt man eine ähnliche Struktur wie bei einer Liste, nur dass anstelle der eckigen Klammern `[]` hier runde Klammern `()` verwendet werden."
   ]
  },
  {
   "cell_type": "code",
   "execution_count": 26,
   "id": "f19af444",
   "metadata": {},
   "outputs": [
    {
     "data": {
      "text/plain": [
       "('Anna', '30', 'Dorfhausen')"
      ]
     },
     "execution_count": 26,
     "metadata": {},
     "output_type": "execute_result"
    }
   ],
   "source": [
    "resultat"
   ]
  },
  {
   "cell_type": "markdown",
   "id": "125b5d6e",
   "metadata": {},
   "source": [
    "Eine weitere Möglichkeit solche Rückgabewerte entgegen zu nehmen, besteht darin, die Werte direkt individuellen Variablen zuzuweisen. Man nennt dieses Verfahren \"Tuple Unpacking\"."
   ]
  },
  {
   "cell_type": "code",
   "execution_count": 27,
   "id": "f2f546c3",
   "metadata": {},
   "outputs": [],
   "source": [
    "der_name, das_alter, der_wohnort = personen_daten_abfragen()"
   ]
  },
  {
   "cell_type": "markdown",
   "id": "fb1a817a",
   "metadata": {},
   "source": [
    "Nun enthalten die individuellen Variablen wieder direkt die einzelnen Werte."
   ]
  },
  {
   "cell_type": "code",
   "execution_count": 28,
   "id": "1758f53d",
   "metadata": {},
   "outputs": [
    {
     "name": "stdout",
     "output_type": "stream",
     "text": [
      "Der Name lautete:  Hans\n",
      "Das Alter war:  27\n"
     ]
    }
   ],
   "source": [
    "print(\"Der Name lautete: \", der_name)\n",
    "print(\"Das Alter war: \", das_alter)"
   ]
  },
  {
   "cell_type": "markdown",
   "id": "8964ef6b",
   "metadata": {},
   "source": [
    "<div class=\"alert alert-block alert-warning\">\n",
    "    <b>Wichtig:</b> Die angegebene Anzahl an Variablen muss mit der Anzahl an zurück gegebenen Werten in der Funktionsdefinition übereinstimmen. Ansonsten kommt es bei der Ausführung zu einem Fehler wie dem folgenden.\n",
    "    </div>"
   ]
  },
  {
   "cell_type": "code",
   "execution_count": 29,
   "id": "131f444a",
   "metadata": {},
   "outputs": [
    {
     "ename": "ValueError",
     "evalue": "too many values to unpack (expected 2)",
     "output_type": "error",
     "traceback": [
      "\u001b[31m---------------------------------------------------------------------------\u001b[39m",
      "\u001b[31mValueError\u001b[39m                                Traceback (most recent call last)",
      "\u001b[36mCell\u001b[39m\u001b[36m \u001b[39m\u001b[32mIn[29]\u001b[39m\u001b[32m, line 1\u001b[39m\n\u001b[32m----> \u001b[39m\u001b[32m1\u001b[39m der_name, das_alter = personen_daten_abfragen()\n",
      "\u001b[31mValueError\u001b[39m: too many values to unpack (expected 2)"
     ]
    }
   ],
   "source": [
    "der_name, das_alter = personen_daten_abfragen()"
   ]
  },
  {
   "cell_type": "markdown",
   "id": "adc41917",
   "metadata": {},
   "source": [
    "## Funktionen frühzeitig verlassen\n",
    "\n",
    "Mit einer `return`-Zeile ist es auch möglich, eine Funktion frühzeitig zu verlassen. Das kann zum Beispiel sinnvoll sein, wenn bei einer Parameterprüfung schon Fehler aufgetreten sind und das Ausführen der restlichen Funktion nicht mehr sinnvoll ist."
   ]
  },
  {
   "cell_type": "code",
   "execution_count": 30,
   "id": "c67c3571",
   "metadata": {},
   "outputs": [],
   "source": [
    "def komplizierte_berechnung(wert1, wert2, wert3):\n",
    "    if wert1 < 0:\n",
    "        print(\"Wert1 muss grösser gleich 0 sein\")\n",
    "        return\n",
    "    if wert2 > 100:\n",
    "        print(\"Wert2 muss grösser als 100 sein\")\n",
    "        return\n",
    "    # weitere Berechnungsschritte"
   ]
  },
  {
   "cell_type": "code",
   "execution_count": 31,
   "id": "7e006d9a",
   "metadata": {},
   "outputs": [
    {
     "name": "stdout",
     "output_type": "stream",
     "text": [
      "Wert2 muss grösser als 100 sein\n"
     ]
    }
   ],
   "source": [
    "komplizierte_berechnung(1,200,100)"
   ]
  },
  {
   "cell_type": "markdown",
   "id": "46ed2bdd",
   "metadata": {},
   "source": [
    "## Aufgabenstellung\n",
    "\n",
    "Schreibe eine Python Funktion `zeichne_weihnachts_baum(höhe)`, welche einen Weihnachtsbaum mit Hilfe von `*`-Zeichnen malt. Der Parameter `höhe` gibt dabei an, aus wie vielen Zeilen der obere Teil des Baums bestehen soll.\n",
    "\n",
    "Für die Höhe eines Stamms kannst Du eine fixe Grösse annehmen.\n",
    "\n",
    "**Hinweis:** Versuche die Aufgabe so zu lösen, dass Du zwei Hilfsfunktionen `zeichne_schicht(...)` und `zeichne_stamm(...)` verwendest. Dabei soll `zeichne_schicht` eine Zeile des oberen Teils des Baums zeichnen und `zeichne_stamm` eine Zeile des Stamms. Überlege Dir aus der Aufgabe, was die beiden Funktionen für Parameter brauchen und wo und wie oft du die Funktionen aufrufen musst.\n",
    "\n",
    "### Beispiel\n",
    "Für den Aufruf von `zeichne_weihnachts_baum(4)` sollte folgende Ausgabe zu sehen sein.\n",
    "\n",
    "```\n",
    "   *\n",
    "  ***\n",
    " *****\n",
    "*******\n",
    "   *\n",
    "   *\n",
    "```\n",
    "\n",
    "### Erweiterungen\n",
    "Wenn Du die ursprünglichen Anforderungen erfüllt hast, versuche auch noch eine oder mehrere der folgenden Anforderungen zu erfüllen:\n",
    "\n",
    " * Erweitere die Funktion `zeichne_weihnachts_baum()` um einen weiteren Parameter, sodass du auch die Stammhöhe verändern kannst.\n",
    " * Überlege Dir, wie Du die Funktion erweitern kannst, sodass auch Weihnachtsbaumkugeln an zufälligen Stellen eingefügt werden. Die Kugeln kannst Du mit dem Buchstaben `O` darstellen. Wähle selbst, wie Du die Anzahl der Kugeln definieren willst und wie die Kugeln über den Baum verteilt werden sollen.\n",
    "\n",
    "### Farbiger Weihnachtsbaum\n",
    "\n",
    "#### Vorbereitungen\n",
    "\n",
    "In dieser Aufgabe sollst du den Weihnachtsbaum aus der vorherigen Aufgabe auch noch farbig ausgeben. Um Text auf der Konsole farbig auszugeben gibt es ein entsprechendes Python Paket, das du zuerst installieren musst. Python Pakete sollten nicht systemweit, sondern in sogenannten Virtual Environments installiert werden. Schau dir deshalb zuerst die folgenden beiden Videos an dazu, warum dies sinnvoll ist und wie du dies mit VSCode umsetzen kannst:\n",
    "\n",
    " * [Warum braucht es Virtual Environments](https://tube.switch.ch/videos/zTGKOI78C3)\n",
    " * [Virtual Environments mit VSCode einrichten](https://tube.switch.ch/videos/oZOxF3YknJ)\n",
    " \n",
    "#### Die Aufgabe\n",
    "Wenn du beide Videos oben durchgearbeitet hast, ist Dein Projekt jetzt soweit eingerichtet, dass Du mit dem Paket \"rich\" Text in Farbe ausgeben kannst.\n",
    "\n",
    "Passe nun den Code an, sodass der obere Teil des Tannenbaums in grün dargestellt wird. Du kannst dafür den Farbnamen `green` verwenden. Der Stamm soll in einer Farbe ähnlich zu braun dargestellt werden. Die Farbe braun existiert leider nicht, du kannst aber `red` verwenden.\n",
    "\n",
    "Versuche zusätzlich Weihnachtsbaum-Kugeln zufällig über den Baum zu verteilen. Du kannst zum Beispiel den Buchstaben ``O`` dafür verwenden. Als Farbe kannst du zum Beispiel `bright red` verwenden.\n"
   ]
  },
  {
   "cell_type": "code",
   "execution_count": 7,
   "id": "0230a5c0",
   "metadata": {},
   "outputs": [
    {
     "ename": "KeyboardInterrupt",
     "evalue": "Interrupted by user",
     "output_type": "error",
     "traceback": [
      "\u001b[31m---------------------------------------------------------------------------\u001b[39m",
      "\u001b[31mKeyboardInterrupt\u001b[39m                         Traceback (most recent call last)",
      "\u001b[36mCell\u001b[39m\u001b[36m \u001b[39m\u001b[32mIn[7]\u001b[39m\u001b[32m, line 5\u001b[39m\n\u001b[32m      1\u001b[39m \u001b[38;5;66;03m#zeichne_weihnachtsbaum(hoehe)\u001b[39;00m\n\u001b[32m      2\u001b[39m \u001b[38;5;66;03m#zeichne_schicht()\u001b[39;00m\n\u001b[32m      3\u001b[39m \u001b[38;5;66;03m#zeichne_stamm()\u001b[39;00m\n\u001b[32m----> \u001b[39m\u001b[32m5\u001b[39m hoehe = \u001b[38;5;28;43minput\u001b[39;49m\u001b[43m(\u001b[49m\u001b[33;43m\"\u001b[39;49m\u001b[33;43mWie gross soll der Weihnachtsbaum sein?: \u001b[39;49m\u001b[33;43m\"\u001b[39;49m\u001b[43m)\u001b[49m\n\u001b[32m      6\u001b[39m hoehe = \u001b[38;5;28mint\u001b[39m(hoehe)\n\u001b[32m      7\u001b[39m \u001b[38;5;28;01mdef\u001b[39;00m\u001b[38;5;250m \u001b[39m\u001b[34mzeichne_stamm\u001b[39m():\n",
      "\u001b[36mFile \u001b[39m\u001b[32m~\\AppData\\Roaming\\Python\\Python313\\site-packages\\ipykernel\\kernelbase.py:1282\u001b[39m, in \u001b[36mKernel.raw_input\u001b[39m\u001b[34m(self, prompt)\u001b[39m\n\u001b[32m   1280\u001b[39m     msg = \u001b[33m\"\u001b[39m\u001b[33mraw_input was called, but this frontend does not support input requests.\u001b[39m\u001b[33m\"\u001b[39m\n\u001b[32m   1281\u001b[39m     \u001b[38;5;28;01mraise\u001b[39;00m StdinNotImplementedError(msg)\n\u001b[32m-> \u001b[39m\u001b[32m1282\u001b[39m \u001b[38;5;28;01mreturn\u001b[39;00m \u001b[38;5;28;43mself\u001b[39;49m\u001b[43m.\u001b[49m\u001b[43m_input_request\u001b[49m\u001b[43m(\u001b[49m\n\u001b[32m   1283\u001b[39m \u001b[43m    \u001b[49m\u001b[38;5;28;43mstr\u001b[39;49m\u001b[43m(\u001b[49m\u001b[43mprompt\u001b[49m\u001b[43m)\u001b[49m\u001b[43m,\u001b[49m\n\u001b[32m   1284\u001b[39m \u001b[43m    \u001b[49m\u001b[38;5;28;43mself\u001b[39;49m\u001b[43m.\u001b[49m\u001b[43m_parent_ident\u001b[49m\u001b[43m[\u001b[49m\u001b[33;43m\"\u001b[39;49m\u001b[33;43mshell\u001b[39;49m\u001b[33;43m\"\u001b[39;49m\u001b[43m]\u001b[49m\u001b[43m,\u001b[49m\n\u001b[32m   1285\u001b[39m \u001b[43m    \u001b[49m\u001b[38;5;28;43mself\u001b[39;49m\u001b[43m.\u001b[49m\u001b[43mget_parent\u001b[49m\u001b[43m(\u001b[49m\u001b[33;43m\"\u001b[39;49m\u001b[33;43mshell\u001b[39;49m\u001b[33;43m\"\u001b[39;49m\u001b[43m)\u001b[49m\u001b[43m,\u001b[49m\n\u001b[32m   1286\u001b[39m \u001b[43m    \u001b[49m\u001b[43mpassword\u001b[49m\u001b[43m=\u001b[49m\u001b[38;5;28;43;01mFalse\u001b[39;49;00m\u001b[43m,\u001b[49m\n\u001b[32m   1287\u001b[39m \u001b[43m\u001b[49m\u001b[43m)\u001b[49m\n",
      "\u001b[36mFile \u001b[39m\u001b[32m~\\AppData\\Roaming\\Python\\Python313\\site-packages\\ipykernel\\kernelbase.py:1325\u001b[39m, in \u001b[36mKernel._input_request\u001b[39m\u001b[34m(self, prompt, ident, parent, password)\u001b[39m\n\u001b[32m   1322\u001b[39m \u001b[38;5;28;01mexcept\u001b[39;00m \u001b[38;5;167;01mKeyboardInterrupt\u001b[39;00m:\n\u001b[32m   1323\u001b[39m     \u001b[38;5;66;03m# re-raise KeyboardInterrupt, to truncate traceback\u001b[39;00m\n\u001b[32m   1324\u001b[39m     msg = \u001b[33m\"\u001b[39m\u001b[33mInterrupted by user\u001b[39m\u001b[33m\"\u001b[39m\n\u001b[32m-> \u001b[39m\u001b[32m1325\u001b[39m     \u001b[38;5;28;01mraise\u001b[39;00m \u001b[38;5;167;01mKeyboardInterrupt\u001b[39;00m(msg) \u001b[38;5;28;01mfrom\u001b[39;00m\u001b[38;5;250m \u001b[39m\u001b[38;5;28;01mNone\u001b[39;00m\n\u001b[32m   1326\u001b[39m \u001b[38;5;28;01mexcept\u001b[39;00m \u001b[38;5;167;01mException\u001b[39;00m:\n\u001b[32m   1327\u001b[39m     \u001b[38;5;28mself\u001b[39m.log.warning(\u001b[33m\"\u001b[39m\u001b[33mInvalid Message:\u001b[39m\u001b[33m\"\u001b[39m, exc_info=\u001b[38;5;28;01mTrue\u001b[39;00m)\n",
      "\u001b[31mKeyboardInterrupt\u001b[39m: Interrupted by user"
     ]
    }
   ],
   "source": [
    "#zeichne_weihnachtsbaum(hoehe)\n",
    "#zeichne_schicht()\n",
    "#zeichne_stamm()\n",
    "\n",
    "hoehe = input(\"Wie gross soll der Weihnachtsbaum sein?: \")\n",
    "hoehe = int(hoehe)\n",
    "def zeichne_stamm():\n",
    "    print (\"*\")\n",
    "    print (\"*\")\n",
    "break\n",
    "\n",
    "\n",
    "\n",
    "\n",
    "\n"
   ]
  },
  {
   "cell_type": "code",
   "execution_count": 11,
   "id": "22568079",
   "metadata": {},
   "outputs": [
    {
     "name": "stdout",
     "output_type": "stream",
     "text": [
      "*\n",
      "*\n"
     ]
    }
   ],
   "source": [
    "def zeichne_stamm():\n",
    "    print (\"*\")\n",
    "    print (\"*\")\n",
    "\n",
    "zeichne_stamm()\n"
   ]
  },
  {
   "cell_type": "code",
   "execution_count": 20,
   "id": "c921fb6f",
   "metadata": {},
   "outputs": [
    {
     "ename": "TypeError",
     "evalue": "zeichne_schicht() missing 1 required positional argument: 'hoehe'",
     "output_type": "error",
     "traceback": [
      "\u001b[31m---------------------------------------------------------------------------\u001b[39m",
      "\u001b[31mTypeError\u001b[39m                                 Traceback (most recent call last)",
      "\u001b[36mCell\u001b[39m\u001b[36m \u001b[39m\u001b[32mIn[20]\u001b[39m\u001b[32m, line 12\u001b[39m\n\u001b[32m      8\u001b[39m         leerzeichen = hoehe - i - \u001b[32m1\u001b[39m\n\u001b[32m      9\u001b[39m         \u001b[38;5;28mprint\u001b[39m(\u001b[33m\"\u001b[39m\u001b[33m \u001b[39m\u001b[33m\"\u001b[39m * leerzeichen + \u001b[33m\"\u001b[39m\u001b[33m*\u001b[39m\u001b[33m\"\u001b[39m, end=\u001b[33m\"\u001b[39m\u001b[33m\"\u001b[39m)\n\u001b[32m---> \u001b[39m\u001b[32m12\u001b[39m \u001b[43mzeichne_schicht\u001b[49m\u001b[43m(\u001b[49m\u001b[43m)\u001b[49m\n",
      "\u001b[31mTypeError\u001b[39m: zeichne_schicht() missing 1 required positional argument: 'hoehe'"
     ]
    }
   ],
   "source": [
    "hoehe = input(\"Wie viele Schichten soll dein Weihnachtsbaum haben? \")\n",
    "\n",
    "hoehe = int(hoehe)\n",
    "\n",
    "def zeichne_schicht(hoehe: int):\n",
    "    for i in range(hoehe):\n",
    "        sterne = 2*i + 1\n",
    "        leerzeichen = hoehe - i - 1\n",
    "        print(\" \" * leerzeichen + \"*\", end=\"\")\n",
    "\n",
    "\n",
    "zeichne_schicht()"
   ]
  },
  {
   "cell_type": "code",
   "execution_count": 28,
   "id": "efdff952",
   "metadata": {},
   "outputs": [
    {
     "name": "stdout",
     "output_type": "stream",
     "text": [
      "              *\n",
      "             ***\n",
      "            *****\n",
      "           *******\n",
      "          *********\n",
      "         ***********\n",
      "        *************\n",
      "       ***************\n",
      "      *****************\n",
      "     *******************\n",
      "    *********************\n",
      "   ***********************\n",
      "  *************************\n",
      " ***************************\n",
      "*****************************\n",
      "              *\n",
      "              *\n"
     ]
    }
   ],
   "source": [
    "hoehe = int(input(\"Wie viele Schichten soll dein Weihnachtsbaum haben? \"))\n",
    "\n",
    "def zeichne_schicht(hoehe: int):\n",
    "\n",
    "    for i in range(hoehe):\n",
    "        sterne = 2 * i + 1                # Sterne pro Zeile\n",
    "        leerzeichen = hoehe - i - 1       # Einrückung nach links für Zentrierung\n",
    "        print(\" \" * leerzeichen + \"*\" * sterne)\n",
    "\n",
    "\n",
    "def zeichne_stamm():\n",
    "    leerzeichen_stamm = hoehe - 1\n",
    "    print (\" \" * leerzeichen_stamm + \"*\")\n",
    "    print (\" \" * leerzeichen_stamm + \"*\")\n",
    "\n",
    "zeichne_schicht(hoehe)\n",
    "zeichne_stamm()"
   ]
  }
 ],
 "metadata": {
  "kernelspec": {
   "display_name": "Python 3",
   "language": "python",
   "name": "python3"
  },
  "language_info": {
   "codemirror_mode": {
    "name": "ipython",
    "version": 3
   },
   "file_extension": ".py",
   "mimetype": "text/x-python",
   "name": "python",
   "nbconvert_exporter": "python",
   "pygments_lexer": "ipython3",
   "version": "3.13.7"
  }
 },
 "nbformat": 4,
 "nbformat_minor": 5
}
